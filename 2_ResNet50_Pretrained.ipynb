{
 "cells": [
  {
   "cell_type": "markdown",
   "id": "2018bc38",
   "metadata": {},
   "source": [
    "# 2.0 Evaluating Pre-Trained ResNet50 Model on Validation Dataset"
   ]
  },
  {
   "cell_type": "markdown",
   "id": "826c003b",
   "metadata": {},
   "source": [
    "This Jupyter Notebook contains the code required to evaluate the performance of a pre-trained ResNet50 model on the validation datasetset. The notebook is divided into four sections, each containing code for a specific task.\n",
    "\n",
    "The notebook is structured into four  main sections:\n",
    "1. **Importing Required Libraries:** This section imports the necessary libraries for the notebook, including TensorFlow, NumPy, Matplotlib, and Scikit-learn.\n",
    "\n",
    "2. **Mapping Imagenet Class Index to Human-Readable Labels:** This section maps the ImageNet class index to human-readable labels, which is necessary for interpreting the results of the ResNet50 model predictions.\n",
    "\n",
    "3. **Obtaining Predictions for Validation Set:** This section loads the pre-trained ResNet50 model from ImageNet and makes predictions on the validation set. It retrieves the list of validation image file paths, extracts the actual label and class name for each image, and preprocesses the images for input to the model. It then predicts the class probabilities for each image and appends the predicted label index to a list.\n",
    "\n",
    "4. **Calculating Performance Metrics:** This section calculates performance metrics for the pre-trained ResNet50 model using Scikit-learn. It calculates the precision score, recall score, F1 score, and accuracy score for the predicted labels.\n",
    "\n",
    "Furthermore, this notebook provides a comprehensive evaluation of the pre-trained ResNet50 model's performance on the validation dataset and provides insights into the model's strengths and weaknesses which will be compared to other models."
   ]
  },
  {
   "cell_type": "markdown",
   "id": "7ce5e927",
   "metadata": {},
   "source": [
    "## 2.1 Importing Required Libraries"
   ]
  },
  {
   "cell_type": "code",
   "execution_count": null,
   "id": "09207acd",
   "metadata": {},
   "outputs": [],
   "source": [
    "import os\n",
    "import json\n",
    "import glob\n",
    "import warnings\n",
    "import numpy as np\n",
    "import seaborn as sns\n",
    "import tensorflow as tf\n",
    "import matplotlib.pyplot as plt\n",
    "\n",
    "from tensorflow.keras.preprocessing import image\n",
    "from tensorflow.keras.applications.resnet50 import ResNet50\n",
    "from tensorflow.keras.applications.resnet50 import preprocess_input\n",
    "from sklearn.metrics import f1_score, accuracy_score, precision_score, recall_score, classification_report\n",
    "\n",
    "\n",
    "warnings.filterwarnings(\"ignore\")"
   ]
  },
  {
   "cell_type": "markdown",
   "id": "fc9f8875",
   "metadata": {},
   "source": [
    "## 2.2 Mapping Imagenet Class Index to Human-Readable Labels\n",
    "\n",
    "> The ImageNet metadata JSON file was obtained from: https://www.kaggle.com/keras/resnet50"
   ]
  },
  {
   "cell_type": "code",
   "execution_count": null,
   "id": "7e811a2b",
   "metadata": {},
   "outputs": [],
   "source": [
    "# Create an empty dictionary\n",
    "imagenet2idx = {}\n",
    "\n",
    "# Open the file 'imagenet_class_index.json' in read mode and assign its content to the dictionary\n",
    "with open('imagenet_class_index.json') as f:\n",
    "    idx2imagenet = json.load(f)\n",
    "    \n",
    "# Print the contents\n",
    "idx2imagenet"
   ]
  },
  {
   "cell_type": "code",
   "execution_count": null,
   "id": "3dacebc3",
   "metadata": {},
   "outputs": [],
   "source": [
    "# Update the dictionary with keys and values from 'idx2imagenet'\n",
    "# The keys are the first elements of the values in 'idx2imagenet' and the values are a list of the \n",
    "# corresponding key in 'idx2imagenet' and the second element of the values in 'idx2imagenet'\n",
    "imagenet2idx = {v[0]: [k, v[1]] for k, v in idx2imagenet.items()}\n",
    "\n",
    "# Print the contents\n",
    "imagenet2idx"
   ]
  },
  {
   "cell_type": "markdown",
   "id": "f80d1056",
   "metadata": {},
   "source": [
    "## 2.3 Obtaining Predictions for Validation Set"
   ]
  },
  {
   "cell_type": "code",
   "execution_count": null,
   "id": "3ff96979",
   "metadata": {},
   "outputs": [],
   "source": [
    "# Define path to validation image folder\n",
    "VAL_PATH = \"imageset/val\"\n",
    "\n",
    "# Find all JPEG image files in the validation directory and store the paths in a list\n",
    "val_images_list = glob.glob(os.path.join(VAL_PATH, \"**\", \"*.JPEG\"), recursive=True)\n",
    "\n",
    "# Load pre-trained ResNet50 model from ImageNet\n",
    "model = ResNet50(weights='imagenet')\n",
    "\n",
    "# Set desired image size for input to model\n",
    "image_size = (224,224)\n",
    "\n",
    "# Initialise empty lists for ground truth labels, predicted labels, and class names\n",
    "actual_labels = []\n",
    "predicted_labels = []\n",
    "class_names = []\n",
    "\n",
    "# Iterate through each validation image and extract actual label and class name\n",
    "for val_image_path in val_images_list:\n",
    "    actual_labels.append(int(imagenet2idx[val_image_path.split(\"\\\\\")[1]][0]))\n",
    "    class_names.append(imagenet2idx[val_image_path.split(\"\\\\\")[1]][1])\n",
    "    \n",
    "    # Load and preprocess image for input to model\n",
    "    img = image.load_img(val_image_path, target_size=image_size)\n",
    "    x = np.expand_dims(image.img_to_array(img), axis=0)\n",
    "    x = preprocess_input(x)\n",
    "\n",
    "    # Predict class probabilities for input image and append predicted label index to list\n",
    "    preds = model.predict(x, verbose=0)\n",
    "    predicted_labels.append(np.argmax(preds))"
   ]
  },
  {
   "cell_type": "code",
   "execution_count": null,
   "id": "8c1060ac",
   "metadata": {},
   "outputs": [],
   "source": [
    "# Print ground truth labels\n",
    "print(\"Ground truth labels:\")\n",
    "actual_labels"
   ]
  },
  {
   "cell_type": "code",
   "execution_count": null,
   "id": "33f351d7",
   "metadata": {},
   "outputs": [],
   "source": [
    "# Print predicted labels\n",
    "print(\"Predicted labels:\")\n",
    "predicted_labels"
   ]
  },
  {
   "cell_type": "code",
   "execution_count": null,
   "id": "5140d1db",
   "metadata": {},
   "outputs": [],
   "source": [
    "# Print class name\n",
    "print(\"Class names:\")\n",
    "class_names"
   ]
  },
  {
   "cell_type": "markdown",
   "id": "0168719f",
   "metadata": {},
   "source": [
    "## 2.4 Calculating Performance Metrics"
   ]
  },
  {
   "cell_type": "code",
   "execution_count": null,
   "id": "31fe6ed0",
   "metadata": {},
   "outputs": [],
   "source": [
    "# Calculate precision score for the predicted labels\n",
    "print(\"Precison:\")\n",
    "precision_score(actual_labels, predicted_labels, average='macro')"
   ]
  },
  {
   "cell_type": "code",
   "execution_count": null,
   "id": "030340bf",
   "metadata": {},
   "outputs": [],
   "source": [
    "# Calculate recall score for the predicted labels\n",
    "print(\"Recall score:\")\n",
    "recall_score(actual_labels, predicted_labels, average='macro')"
   ]
  },
  {
   "cell_type": "code",
   "execution_count": null,
   "id": "9ba51d71",
   "metadata": {},
   "outputs": [],
   "source": [
    "# Calculate f1 score for the predicted labels\n",
    "print(\"F1 score:\")\n",
    "f1_score(actual_labels, predicted_labels, average='macro')"
   ]
  },
  {
   "cell_type": "code",
   "execution_count": null,
   "id": "1c84c11c",
   "metadata": {},
   "outputs": [],
   "source": [
    "# Calculate accuracy score for the predicted labels\n",
    "print(\"Accuracy score:\")\n",
    "accuracy_score(actual_labels, predicted_labels, normalize=True)"
   ]
  },
  {
   "cell_type": "markdown",
   "id": "3ff6eaa1",
   "metadata": {},
   "source": [
    "-------------------------------------------------------------------------------\n",
    "\n",
    "#### Code adapted from:\n",
    "\n",
    "https://keras.io/api/applications/\n",
    "\n",
    "https://www.tensorflow.org/tutorials/images/classification\n",
    "\n",
    "https://keras.io/examples/vision/image_classification_from_scratch/\n",
    "\n",
    "https://keras.io/examples/vision/image_classification_efficientnet_fine_tuning/\n",
    "\n",
    "https://www.kaggle.com/code/arjunrao2000/beginners-guide-efficientnet-with-keras/notebook"
   ]
  }
 ],
 "metadata": {
  "kernelspec": {
   "display_name": "Python 3 (ipykernel)",
   "language": "python",
   "name": "python3"
  },
  "language_info": {
   "codemirror_mode": {
    "name": "ipython",
    "version": 3
   },
   "file_extension": ".py",
   "mimetype": "text/x-python",
   "name": "python",
   "nbconvert_exporter": "python",
   "pygments_lexer": "ipython3",
   "version": "3.10.0"
  }
 },
 "nbformat": 4,
 "nbformat_minor": 5
}
